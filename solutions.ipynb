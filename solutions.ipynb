{
 "cells": [
  {
   "cell_type": "markdown",
   "metadata": {},
   "source": [
    "# **Basic Python**"
   ]
  },
  {
   "cell_type": "markdown",
   "metadata": {},
   "source": [
    "## 1.a \n",
    "Give a function F that takes a single argument n. This function should print a sequence of n strings as described in the examples below: <br>\n",
    "Ex: **n = 3**\n",
    "\n",
    "--A--<br>\n",
    "-BAB-<br>\n",
    "CBABC<br>\n",
    "\n",
    "**n = 4**\n",
    "\n",
    "---A---<br>\n",
    "--BAB--<br>\n",
    "-CBABC-<br>\n",
    "DCBABCD"
   ]
  },
  {
   "cell_type": "code",
   "execution_count": 1,
   "metadata": {},
   "outputs": [
    {
     "name": "stdout",
     "output_type": "stream",
     "text": [
      "---------A---------\n",
      "--------ABA--------\n",
      "-------ABCBA-------\n",
      "------ABCDCBA------\n",
      "-----ABCDEDCBA-----\n",
      "----ABCDEFEDCBA----\n",
      "---ABCDEFGFEDCBA---\n",
      "--ABCDEFGHGFEDCBA--\n",
      "-ABCDEFGHIHGFEDCBA-\n",
      "ABCDEFGHIJIHGFEDCBA\n",
      "-----A-----\n",
      "----ABA----\n",
      "---ABCBA---\n",
      "--ABCDCBA--\n",
      "-ABCDEDCBA-\n",
      "ABCDEFEDCBA\n"
     ]
    }
   ],
   "source": [
    "def F(n):\n",
    "    for i in range(n):\n",
    "        # Divide the problem in 3 parts, first create the left side of the string with dashes. Use a loop for the number of dashes which will keep on reducing\n",
    "        left_dashes = '-' * (n - i - 1)\n",
    "        \n",
    "        # Then create the sequence of letters we need\n",
    "        left_letters = ''.join(chr(65 + j) for j in range(i + 1))\n",
    "        \n",
    "        # In the end mirror the middle part excluding the last character\n",
    "        right_letters = ''.join(chr(65 + j) for j in range(i - 1, -1, -1))\n",
    "        \n",
    "        # Combine the parts and print the result\n",
    "        print(left_dashes + left_letters + right_letters + left_dashes)\n",
    "\n",
    "\n",
    "F(10)\n",
    "F(6)\n"
   ]
  },
  {
   "cell_type": "markdown",
   "metadata": {},
   "source": [
    "## 1.b\n",
    "Make a function F that takes only one argument, a dictionary(dict) d.\n",
    "The keys of d are integers and the values of d are a tuple of type (x (int), y (int)).\n",
    "You must print out the dict in the format \"-key-, -x-, -y-\" with each entry in a new line. Print it for each of the three sorted orders, by key values ascending, by x values descending, by y values ascending."
   ]
  },
  {
   "cell_type": "code",
   "execution_count": 2,
   "metadata": {},
   "outputs": [
    {
     "name": "stdout",
     "output_type": "stream",
     "text": [
      "Sorted by key values ascending:\n",
      "-1-, -1-, -2-\n",
      "-2-, --1-, -4-\n",
      "-4-, -2-, -3-\n",
      "-5-, --4-, -3-\n",
      "\n",
      "Sorted by x values descending:\n",
      "-4-, -2-, -3-\n",
      "-1-, -1-, -2-\n",
      "-2-, --1-, -4-\n",
      "-5-, --4-, -3-\n",
      "\n",
      "Sorted by y values ascending:\n",
      "-1-, -1-, -2-\n",
      "-2-, --1-, -4-\n",
      "-5-, --4-, -3-\n",
      "-4-, -2-, -3-\n",
      "Sorted by key values ascending:\n",
      "--8-, -4-, -2-\n",
      "-5-, -9-, --10-\n",
      "-6-, --3-, -4-\n",
      "-7-, -2-, -1-\n",
      "\n",
      "Sorted by x values descending:\n",
      "-5-, -9-, --10-\n",
      "--8-, -4-, -2-\n",
      "-7-, -2-, -1-\n",
      "-6-, --3-, -4-\n",
      "\n",
      "Sorted by y values ascending:\n",
      "--8-, -4-, -2-\n",
      "-6-, --3-, -4-\n",
      "-7-, -2-, -1-\n",
      "-5-, -9-, --10-\n"
     ]
    }
   ],
   "source": [
    "def F(d: dict):\n",
    "    # Sorts by key values ascending\n",
    "    print(\"Sorted by key values ascending:\")\n",
    "    for key in sorted(d.keys()):\n",
    "        x, y = d[key]\n",
    "        print(f\"-{key}-, -{x}-, -{y}-\")\n",
    "    \n",
    "    # Sorted by x values descending\n",
    "    print(\"\\nSorted by x values descending:\")\n",
    "    for key in sorted(d, key=lambda k: d[k][0], reverse=True):\n",
    "        x, y = d[key]\n",
    "        print(f\"-{key}-, -{x}-, -{y}-\")\n",
    "    \n",
    "    # Sorted by y values ascending\n",
    "    print(\"\\nSorted by y values ascending:\")\n",
    "    for key in sorted(d, key=lambda k: d[key][1]):\n",
    "        x, y = d[key]\n",
    "        print(f\"-{key}-, -{x}-, -{y}-\")\n",
    "\n",
    "# Tests\n",
    "F({1 : (1, 2), 2 : (-1, 4), 5 : (-4, 3), 4 : (2, 3)})\n",
    "F({-8 : (4, 2), 6 : (-3, 4), 7 : (2, 1), 5 : (9, -10)})\n"
   ]
  },
  {
   "cell_type": "markdown",
   "metadata": {},
   "source": [
    "## 2 Working with Student Records\n",
    "\n",
    "Use the data in **student_records.csv** to complete the given tasks. Do not include any external libraries. Use a Python dictionary if required.\n",
    "\n",
    "### Reference\n",
    "- [Python Dictionaries](https://www.w3schools.com/python/python_dictionaries.asp)\n"
   ]
  },
  {
   "cell_type": "markdown",
   "metadata": {},
   "source": [
    "#### 2.a: open the student_records.csv file and print out the first 10 rows"
   ]
  },
  {
   "cell_type": "code",
   "execution_count": 3,
   "metadata": {},
   "outputs": [
    {
     "name": "stdout",
     "output_type": "stream",
     "text": [
      "   roll_number department  credit course_name      course_type grade\n",
      "0       588946         MA       3       EC250  hasmed_elective    AB\n",
      "1       145372         EP       4       EP407  hasmed_elective    CC\n",
      "2       834515         MA       8       EP885  hasmed_elective    BB\n",
      "3       344265        CSE       6      CSE699          honours    AB\n",
      "4       358405         MA       3       EE460            minor    AP\n",
      "5       781075         CE       8       CE540          honours    CC\n",
      "6       180828        CSE       6       CE880            minor    AB\n",
      "7       981238         MM       4      CSE226            minor    AB\n",
      "8       836881         MM       8       MM530             core    AA\n",
      "9       310604         EE       8       EE202             core    AB\n"
     ]
    }
   ],
   "source": [
    "import pandas as pd\n",
    "\n",
    "# Read the CSV file\n",
    "df = pd.read_csv('student_records.csv')\n",
    "\n",
    "# Print the first 10 rows using head() \n",
    "print(df.head(10))"
   ]
  },
  {
   "cell_type": "markdown",
   "metadata": {},
   "source": [
    "#### 2.b: Print out the total credits and calculte CPI of each student. \n",
    "CPI is the weighted average of core courses, and electives (weights being the letter grades converted to number AP,AA=10, AB=9, BB=9, BC=7, CC=6)"
   ]
  },
  {
   "cell_type": "code",
   "execution_count": 4,
   "metadata": {},
   "outputs": [
    {
     "name": "stdout",
     "output_type": "stream",
     "text": [
      "             credit  weighted_points   CPI\n",
      "roll_number                               \n",
      "124663          229             1861  8.13\n",
      "138296          200             1655  8.28\n",
      "143142          234             2055  8.78\n",
      "143856          201             1706  8.49\n",
      "144528          228             1860  8.16\n",
      "145372          173             1340  7.75\n",
      "150503          173             1434  8.29\n",
      "159438          176             1475  8.38\n",
      "180828          177             1433  8.10\n",
      "194063          157             1278  8.14\n",
      "199713          172             1426  8.29\n",
      "203200          157             1380  8.79\n",
      "207443          161             1337  8.30\n",
      "208100          182             1563  8.59\n",
      "214270          229             1804  7.88\n",
      "265922          236             1970  8.35\n",
      "270007          241             1936  8.03\n",
      "282482          228             1890  8.29\n",
      "283796          211             1860  8.82\n",
      "294697          269             2306  8.57\n",
      "301135          206             1715  8.33\n",
      "310604          198             1650  8.33\n",
      "327122          246             2008  8.16\n",
      "329535          157             1292  8.23\n",
      "344265          153             1331  8.70\n",
      "358405          206             1769  8.59\n",
      "362471          214             1697  7.93\n",
      "364146          225             1889  8.40\n",
      "379479          260             2144  8.25\n",
      "381227          179             1472  8.22\n",
      "381526          160             1348  8.43\n",
      "388969          229             1904  8.31\n",
      "391848          217             1831  8.44\n",
      "458200          190             1595  8.39\n",
      "461584          234             1927  8.24\n",
      "461971          252             2090  8.29\n",
      "465496          168             1395  8.30\n",
      "478606          244             2030  8.32\n",
      "482623          254             2134  8.40\n",
      "485484          216             1806  8.36\n",
      "488661          248             2134  8.60\n",
      "500658          208             1699  8.17\n",
      "517837          205             1759  8.58\n",
      "521087          223             1764  7.91\n",
      "534763          158             1253  7.93\n",
      "571782          217             1828  8.42\n",
      "572815          212             1763  8.32\n",
      "581065          196             1612  8.22\n",
      "581858          216             1739  8.05\n",
      "582912          221             1913  8.66\n",
      "588946          199             1730  8.69\n",
      "589528          153             1336  8.73\n",
      "597353          200             1624  8.12\n",
      "608522          159             1369  8.61\n",
      "608952          251             2090  8.33\n",
      "613401          209             1764  8.44\n",
      "626000          210             1770  8.43\n",
      "628849          183             1595  8.72\n",
      "630568          217             1789  8.24\n",
      "680096          153             1231  8.05\n",
      "681499          234             1932  8.26\n",
      "692318          216             1764  8.17\n",
      "703403          254             2118  8.34\n",
      "716985          185             1514  8.18\n",
      "718510          184             1551  8.43\n",
      "721490          235             1961  8.34\n",
      "733782          169             1423  8.42\n",
      "750259          209             1746  8.35\n",
      "773982          264             2130  8.07\n",
      "775967          197             1661  8.43\n",
      "781075          246             2010  8.17\n",
      "782129          184             1571  8.54\n",
      "787967          192             1615  8.41\n",
      "788020          193             1547  8.02\n",
      "810863          192             1565  8.15\n",
      "816041          158             1337  8.46\n",
      "834515          199             1635  8.22\n",
      "836431          160             1264  7.90\n",
      "836881          246             2063  8.39\n",
      "841365          177             1415  7.99\n",
      "845623          237             1985  8.38\n",
      "847809          261             2143  8.21\n",
      "851029          161             1340  8.32\n",
      "870642          161             1291  8.02\n",
      "871746          216             1774  8.21\n",
      "879634          203             1774  8.74\n",
      "881983          169             1407  8.33\n",
      "888886          207             1712  8.27\n",
      "907454          245             2026  8.27\n",
      "928288          191             1626  8.51\n",
      "955757          251             2081  8.29\n",
      "960395          262             2260  8.63\n",
      "970791          220             1787  8.12\n",
      "971123          210             1672  7.96\n",
      "973158          193             1643  8.51\n",
      "981238          168             1385  8.24\n",
      "986057          199             1605  8.07\n",
      "993835          175             1476  8.43\n",
      "995208          157             1222  7.78\n",
      "998293          207             1800  8.70\n"
     ]
    }
   ],
   "source": [
    "import pandas as pd\n",
    "\n",
    "# Sets pandas to display all rows in the DataFrame (I was having some issues with pandas just showing some of the values)\n",
    "pd.set_option('display.max_rows', None)\n",
    "\n",
    "# Reads the CSV file\n",
    "df = pd.read_csv('student_records.csv')\n",
    "\n",
    "# Define grade to point conversion as mentioned in the question\n",
    "grade_to_point = {\n",
    "   'AP': 10, 'AA': 10, \n",
    "   'AB': 9, \n",
    "   'BB': 8, \n",
    "   'BC': 7, \n",
    "   'CC': 6\n",
    "}\n",
    "\n",
    "# Converts grades to points\n",
    "df['grade_points'] = df['grade'].map(grade_to_point)\n",
    "\n",
    "# Calculates weighted points for each course\n",
    "df['weighted_points'] = df['credit'] * df['grade_points']\n",
    "\n",
    "# Groups by roll number to calculate student-wise metrics\n",
    "student_summary = df.groupby('roll_number').agg({\n",
    "   'credit': 'sum',\n",
    "   'weighted_points': 'sum'\n",
    "})\n",
    "\n",
    "# Calculates CPI (Weighted Average of Grades)\n",
    "student_summary['CPI'] = student_summary['weighted_points'] / student_summary['credit']\n",
    "\n",
    "# Rounds CPI to 2 decimal places\n",
    "student_summary['CPI'] = student_summary['CPI'].round(2)\n",
    "\n",
    "# Prints the result\n",
    "print(student_summary)\n"
   ]
  },
  {
   "cell_type": "markdown",
   "metadata": {},
   "source": [
    "#### 2.c: Print out the names of all students who meet the graduation requirements \n",
    "Atleast 20 credist of core course, 15 credits of department elective, 10 credits of flexible elective and 5 credits of hasmed electives"
   ]
  },
  {
   "cell_type": "code",
   "execution_count": 5,
   "metadata": {},
   "outputs": [
    {
     "name": "stdout",
     "output_type": "stream",
     "text": [
      "Students meeting graduation requirements:\n",
      "[124663, 143142, 143856, 144528, 145372, 150503, 159438, 199713, 203200, 208100, 214270, 265922, 283796, 362471, 364146, 379479, 388969, 391848, 461971, 465496, 482623, 500658, 517837, 521087, 534763, 571782, 572815, 581065, 581858, 582912, 588946, 608522, 608952, 613401, 626000, 628849, 630568, 681499, 692318, 703403, 716985, 718510, 721490, 773982, 781075, 782129, 787967, 788020, 810863, 834515, 836881, 845623, 879634, 881983, 888886, 955757, 960395, 970791, 971123, 973158]\n"
     ]
    }
   ],
   "source": [
    "import pandas as pd\n",
    "\n",
    "# Reads the CSV file\n",
    "df = pd.read_csv('student_records.csv')\n",
    "\n",
    "# Function to check graduation requirements for each student\n",
    "def check_graduation_requirements(student_courses):\n",
    "   # Initialize credit counters\n",
    "   credits = {\n",
    "       'core': 0,\n",
    "       'department_elective': 0,\n",
    "       'flexible_elective': 0,\n",
    "       'hasmed_elective': 0\n",
    "   }\n",
    "   \n",
    "   # Adds credits for each course type\n",
    "   for _, course in student_courses.iterrows():\n",
    "       if course['course_type'] == 'core':\n",
    "           credits['core'] += course['credit']\n",
    "       elif course['course_type'] == 'minor':\n",
    "           credits['department_elective'] += course['credit']\n",
    "       elif course['course_type'] == 'honours':\n",
    "           credits['flexible_elective'] += course['credit']\n",
    "       elif course['course_type'] == 'hasmed_elective':\n",
    "           credits['hasmed_elective'] += course['credit']\n",
    "   \n",
    "   # Checks if all graduation requirements are met\n",
    "   return (\n",
    "       credits['core'] >= 20 and\n",
    "       credits['department_elective'] >= 15 and\n",
    "       credits['flexible_elective'] >= 10 and\n",
    "       credits['hasmed_elective'] >= 5\n",
    "   )\n",
    "\n",
    "# Groups courses by roll number\n",
    "student_courses = df.groupby('roll_number')\n",
    "\n",
    "# Finds students meeting graduation requirements\n",
    "graduates = [\n",
    "   roll_number for roll_number, courses in student_courses \n",
    "   if check_graduation_requirements(courses)\n",
    "]\n",
    "\n",
    "# Prints graduates\n",
    "print(\"Students meeting graduation requirements:\")\n",
    "print(graduates)"
   ]
  },
  {
   "cell_type": "markdown",
   "metadata": {},
   "source": [
    "#### 2.d: Print out the names of all students who completed a minor \n",
    "Atleast 10 credits with minor tag in a specific department"
   ]
  },
  {
   "cell_type": "code",
   "execution_count": 6,
   "metadata": {},
   "outputs": [
    {
     "name": "stdout",
     "output_type": "stream",
     "text": [
      "Students who completed a minor (at least 10 credits):\n",
      "Index([124663, 138296, 143142, 143856, 144528, 145372, 150503, 159438, 180828,\n",
      "       194063, 199713, 203200, 207443, 208100, 214270, 265922, 270007, 282482,\n",
      "       283796, 294697, 301135, 327122, 329535, 344265, 358405, 362471, 364146,\n",
      "       379479, 381227, 381526, 388969, 391848, 458200, 461584, 461971, 465496,\n",
      "       478606, 482623, 485484, 488661, 500658, 517837, 521087, 534763, 571782,\n",
      "       572815, 581065, 581858, 582912, 588946, 597353, 608522, 608952, 613401,\n",
      "       626000, 628849, 630568, 680096, 681499, 692318, 703403, 716985, 718510,\n",
      "       721490, 733782, 750259, 773982, 775967, 781075, 782129, 787967, 788020,\n",
      "       810863, 816041, 834515, 836431, 836881, 841365, 845623, 847809, 851029,\n",
      "       871746, 879634, 881983, 888886, 907454, 955757, 960395, 970791, 971123,\n",
      "       973158, 981238, 986057, 993835, 995208, 998293],\n",
      "      dtype='int64', name='roll_number')\n"
     ]
    }
   ],
   "source": [
    "import pandas as pd\n",
    "\n",
    "# Reads the CSV file\n",
    "df = pd.read_csv('student_records.csv')\n",
    "\n",
    "# Filters out only the courses that are marked as \"minor\"\n",
    "minor_courses = df[df['course_type'] == 'minor']\n",
    "\n",
    "# Groups by roll number to sum credits for minor courses\n",
    "minor_summary = minor_courses.groupby('roll_number')['credit'].sum()\n",
    "\n",
    "# Filters students who have completed at least 10 credits with the \"minor\" tag\n",
    "students_with_minor = minor_summary[minor_summary >= 10]\n",
    "\n",
    "# Prints the roll numbers of students who meet the requirement\n",
    "print(\"Students who completed a minor (at least 10 credits):\")\n",
    "print(students_with_minor.index)\n"
   ]
  },
  {
   "cell_type": "markdown",
   "metadata": {},
   "source": [
    "#### 2.e: Print out the names of all students who completed a honours\n",
    "Atleast 10 credits with honours tag and 20 core credits"
   ]
  },
  {
   "cell_type": "code",
   "execution_count": 7,
   "metadata": {},
   "outputs": [
    {
     "name": "stdout",
     "output_type": "stream",
     "text": [
      "Students who completed honours :\n",
      "Index([124663, 143142, 143856, 144528, 145372, 150503, 159438, 199713, 203200,\n",
      "       207443, 208100, 214270, 265922, 282482, 283796, 294697, 310604, 327122,\n",
      "       362471, 364146, 379479, 388969, 391848, 458200, 461971, 465496, 482623,\n",
      "       485484, 488661, 500658, 517837, 521087, 534763, 571782, 572815, 581065,\n",
      "       581858, 582912, 588946, 589528, 608522, 608952, 613401, 626000, 628849,\n",
      "       630568, 681499, 692318, 703403, 716985, 718510, 721490, 750259, 773982,\n",
      "       781075, 782129, 787967, 788020, 810863, 834515, 836881, 845623, 870642,\n",
      "       871746, 879634, 881983, 888886, 928288, 955757, 960395, 970791, 971123,\n",
      "       973158, 986057, 998293],\n",
      "      dtype='int64', name='roll_number')\n"
     ]
    }
   ],
   "source": [
    "import pandas as pd\n",
    "\n",
    "# Reads the CSV file\n",
    "df = pd.read_csv('student_records.csv')\n",
    "\n",
    "# Filters out courses tagged as \"honours\" and \"core\"\n",
    "honours_courses = df[df['course_type'] == 'honours']\n",
    "core_courses = df[df['course_type'] == 'core']\n",
    "\n",
    "# Groups by roll number to sum credits for each course type\n",
    "honours_summary = honours_courses.groupby('roll_number')['credit'].sum()\n",
    "core_summary = core_courses.groupby('roll_number')['credit'].sum()\n",
    "\n",
    "# Filters students who have at least 10 credits in honours and at least 20 credits in core (which is our required condition)\n",
    "honours_students = honours_summary[honours_summary >= 10]\n",
    "core_students = core_summary[core_summary >= 20]\n",
    "\n",
    "# Finds students who meet both criteria\n",
    "eligible_students = honours_students[honours_students.index.isin(core_students.index)]\n",
    "\n",
    "# Prints the roll numbers of students who meet the requirement\n",
    "print(\"Students who completed honours :\")\n",
    "print(eligible_students.index)\n"
   ]
  },
  {
   "cell_type": "markdown",
   "metadata": {},
   "source": [
    "# **SciPy** "
   ]
  },
  {
   "cell_type": "markdown",
   "metadata": {},
   "source": [
    "## Part A\n",
    "Minimize the function $f(x, y) = 2(x - y - 3)^2 + 4(x + 2y + 1)^4$.<br>\n",
    "With the constraints : $ x - y \\ge -3, (x + 2)^2 + (y + 1)^2 \\le 5$ <br>\n",
    "Using scipy.optimize.minimize with constraints. (Hint: Look at the examples in the official documentation)"
   ]
  },
  {
   "cell_type": "code",
   "execution_count": 8,
   "metadata": {},
   "outputs": [
    {
     "name": "stdout",
     "output_type": "stream",
     "text": [
      "Optimal solution: x=0.2349250274647683, y=-0.9285148850646019\n",
      "Minimum function value: 7.345026216977383\n"
     ]
    }
   ],
   "source": [
    "import numpy as np\n",
    "from scipy.optimize import minimize\n",
    "\n",
    "\n",
    "# Objective function to minimize\n",
    "def f(variables):\n",
    "    x, y = variables\n",
    "    return 2 * (x - y - 3)**2 + 4 * (x + 2 * y + 1)**4\n",
    "\n",
    "# The functions for the constraints\n",
    "def constraint1(variables):\n",
    "    x, y = variables\n",
    "    return x - y + 3  # Should be >= 0\n",
    "\n",
    "def constraint2(variables):\n",
    "    x, y = variables\n",
    "    return 5 - (x + 2)**2 - (y + 1)**2  # Should be >= 0\n",
    "\n",
    "# Initial guess for the variables\n",
    "initial_guess = np.array([0, 0])\n",
    "\n",
    "# Define the constraints (ineq means the function should be >= 0)\n",
    "constraints = [\n",
    "    {'type': 'ineq', 'fun': constraint1},  # x - y + 3 >= 0\n",
    "    {'type': 'ineq', 'fun': constraint2}   # 5 - (x + 2)^2 - (y + 1)^2 >= 0\n",
    "]\n",
    "\n",
    "# Optimize the function with the constraints\n",
    "result = minimize(f, initial_guess, method='SLSQP', constraints=constraints)\n",
    "\n",
    "# Print the optimal solution and the minimum function value\n",
    "if result.success:\n",
    "    print(f\"Optimal solution: x={result.x[0]}, y={result.x[1]}\")\n",
    "    print(f\"Minimum function value: {result.fun}\")\n",
    "else:\n",
    "    print(f\"Optimization failed: {result.message}\")\n"
   ]
  },
  {
   "cell_type": "markdown",
   "metadata": {},
   "source": [
    "# Part B\n",
    "Evaluate the line integral of the function $f(x, y) = x^2 + y^4$ along the circle $ x^2 + y^2 = 3 $ anticlockwise (scalar integral, not vector). You must use scipy for integration but you may use parameterization"
   ]
  },
  {
   "cell_type": "code",
   "execution_count": 9,
   "metadata": {},
   "outputs": [
    {
     "name": "stdout",
     "output_type": "stream",
     "text": [
      "Line integral : 53.05363140385085\n"
     ]
    }
   ],
   "source": [
    "import numpy as np\n",
    "from scipy.integrate import quad\n",
    "\n",
    "# We will first define the function to integrate and use parameterization for the circle \n",
    "def integrand(t):\n",
    "    sqrt_3 = np.sqrt(3)\n",
    "    f_t = (sqrt_3 * np.cos(t))**2 + (sqrt_3 * np.sin(t))**4\n",
    "    return f_t * sqrt_3\n",
    "\n",
    "# Integrate the function over [0, 2*pi] \n",
    "result, error = quad(integrand, 0, 2 * np.pi)\n",
    "\n",
    "print(f\"Line integral : {result:}\")\n",
    "\n",
    "\n"
   ]
  },
  {
   "cell_type": "markdown",
   "metadata": {},
   "source": [
    "# **Numpy**"
   ]
  },
  {
   "cell_type": "markdown",
   "metadata": {},
   "source": [
    "### Read Lisan_Al_Gaib.pdf for problem description and complete the following functions"
   ]
  },
  {
   "cell_type": "code",
   "execution_count": 10,
   "metadata": {},
   "outputs": [],
   "source": [
    "import time # to time the execution\n",
    "import numpy as np\n",
    "import matplotlib.pyplot as plt"
   ]
  },
  {
   "cell_type": "code",
   "execution_count": 11,
   "metadata": {},
   "outputs": [],
   "source": [
    "def load_data(data_path):\n",
    "    \"\"\"\n",
    "    Load the 2D coordinates from the given file.\n",
    "    Data is stored in a text file with lines formatted as \"x,y\".\n",
    "    Arguments:\n",
    "        data_path (str): Path to the file containing spice locations.\n",
    "    Returns an array of shape (N, 2), where N is the number of data points.\n",
    "    \"\"\"\n",
    "    return np.loadtxt(data_path, delimiter=',')"
   ]
  },
  {
   "cell_type": "code",
   "execution_count": 12,
   "metadata": {},
   "outputs": [],
   "source": [
    "def initialise_centers(data, K, init_centers=None):\n",
    "    \"\"\"\n",
    "    Initialize centers for clustering.\n",
    "    Arguments:\n",
    "        data (np.ndarray): Data points of shape (N, 2).\n",
    "        K (int): Number of clusters.\n",
    "        init_centers (np.ndarray or None): Predefined centers, or None to select randomly.\n",
    "    Returns an initial cluster centers of shape (K, 2).\n",
    "    \"\"\"\n",
    "    if init_centers is None:\n",
    "        return data[np.random.choice(data.shape[0], K, replace=False)]\n",
    "    return init_centers"
   ]
  },
  {
   "cell_type": "code",
   "execution_count": 13,
   "metadata": {},
   "outputs": [],
   "source": [
    "def initialise_labels(data):\n",
    "    \"\"\"\n",
    "    Initialize labels to all ones.\n",
    "    Arguments:\n",
    "        data (np.ndarray): Data points of shape (N, 2).\n",
    "    Returns an Array of shape (N,), initialized with ones.\n",
    "    \"\"\"\n",
    "    return np.ones(data.shape[0], dtype=int)"
   ]
  },
  {
   "cell_type": "code",
   "execution_count": 14,
   "metadata": {},
   "outputs": [],
   "source": [
    "# TODO 3.1: Calculate distances\n",
    "def calculate_distances(data, centers):\n",
    "    \"\"\"\n",
    "    Calculate distances from each data point to each center.\n",
    "    Argsments:\n",
    "        data (np.ndarray): Data points of shape (N, 2).\n",
    "        centers (np.ndarray): Current centers of shape (K, 2).\n",
    "    Returns a distance matrix of shape (N, K).\n",
    "    \"\"\"\n",
    "    return np.linalg.norm(data[:, np.newaxis] - centers, axis=2)\n",
    "\n",
    "# Testing the functions with spice_locations.txt\n",
    "data_path = 'spice_locations.txt'"
   ]
  },
  {
   "cell_type": "code",
   "execution_count": 15,
   "metadata": {},
   "outputs": [],
   "source": [
    "def update_labels(distances):\n",
    "    \"\"\"\n",
    "    Assign the label of the nearest center to each data point.\n",
    "    Arguments:\n",
    "        distances (np.ndarray): Distance matrix of shape (N, K).\n",
    "    Returns an Array of size (N), containing cluster labels.\n",
    "    \"\"\"\n",
    "    return np.argmin(distances, axis=1)"
   ]
  },
  {
   "cell_type": "code",
   "execution_count": 16,
   "metadata": {},
   "outputs": [],
   "source": [
    "def update_centers(data, labels, K):\n",
    "    \"\"\"\n",
    "    Update the cluster centers based on the mean of the assigned points.\n",
    "    Arguments:\n",
    "        data (np.ndarray): Data points of shape (N, 2).\n",
    "        labels (np.ndarray): Current cluster labels of shape (N,).\n",
    "        K (int): Number of clusters.\n",
    "    Returns the updated centers of shape (K, 2).\n",
    "    \"\"\"\n",
    "    return np.array([data[labels == k].mean(axis=0) for k in range(K)])\n"
   ]
  },
  {
   "cell_type": "code",
   "execution_count": 17,
   "metadata": {},
   "outputs": [],
   "source": [
    "def check_termination(labels1, labels2):\n",
    "    \"\"\"\n",
    "    Check if the labels have changed between iterations.\n",
    "    Argumentss:\n",
    "        labels1 (np.ndarray): Labels from the previous iteration.\n",
    "        labels2 (np.ndarray): Labels from the current iteration.\n",
    "    Returns True if labels haven't changed, False otherwise.\n",
    "    \"\"\"\n",
    "    return np.array_equal(labels1, labels2)"
   ]
  },
  {
   "cell_type": "code",
   "execution_count": 18,
   "metadata": {},
   "outputs": [],
   "source": [
    "### DON'T CHANGE ANYTHING IN THE FOLLOWING FUNCTION\n",
    "def kmeans(data_path:str, K:int, init_centers):\n",
    "    '''\n",
    "    Input :\n",
    "        data (type str): path to the file containing the data\n",
    "        K (type int): number of clusters\n",
    "        init_centers (type numpy.ndarray): initial centers. shape = (K, 2) or None\n",
    "    Output :\n",
    "        centers (type numpy.ndarray): final centers. shape = (K, 2)\n",
    "        labels (type numpy.ndarray): label of each data point. shape = (N,)\n",
    "        time (type float): time taken by the algorithm to converge in seconds\n",
    "    N is the number of data points each of shape (2,)\n",
    "    '''\n",
    "    data = load_data(data_path)    \n",
    "    centers = initialise_centers(data, K, init_centers)\n",
    "    labels = initialise_labels(data)\n",
    "\n",
    "    start_time = time.time() # Time stamp \n",
    "\n",
    "    while True:\n",
    "        distances = calculate_distances(data, centers)\n",
    "        labels_new = update_labels(distances)\n",
    "        centers = update_centers(data, labels_new, K)\n",
    "        if check_termination(labels, labels_new): break\n",
    "        else: labels = labels_new\n",
    " \n",
    "    end_time = time.time() # Time stamp after the algorithm ends\n",
    "    return centers, labels, end_time - start_time "
   ]
  },
  {
   "cell_type": "code",
   "execution_count": 24,
   "metadata": {},
   "outputs": [],
   "source": [
    "def visualise(data_path, labels, centers):\n",
    "\n",
    "    data = load_data(data_path)\n",
    "    \n",
    "    # Scatter plot of data points colored by their labels\n",
    "    plt.figure(figsize=(8, 6))\n",
    "    plt.scatter(data[:, 0], data[:, 1], c=labels, s=50, cmap='viridis')\n",
    "    \n",
    "    # Scatter plot for cluster centers\n",
    "    plt.scatter(centers[:, 0], centers[:, 1], c='red', s=200, alpha=0.75, edgecolors='black')\n",
    "    \n",
    "    # Add labels and title\n",
    "    plt.title('K-means clustering')\n",
    "    plt.xlabel('Longitude')\n",
    "    plt.ylabel('Latitude')\n",
    "    \n",
    "    #plt.savefig('kmeans.png')\n",
    "    \n",
    "    return plt"
   ]
  },
  {
   "cell_type": "code",
   "execution_count": 22,
   "metadata": {},
   "outputs": [
    {
     "name": "stdout",
     "output_type": "stream",
     "text": [
      "Time taken for the algorithm to converge: 0.0003457069396972656\n"
     ]
    },
    {
     "data": {
      "text/plain": [
       "<module 'matplotlib.pyplot' from '/home/manaswi/.local/lib/python3.10/site-packages/matplotlib/pyplot.py'>"
      ]
     },
     "execution_count": 22,
     "metadata": {},
     "output_type": "execute_result"
    },
    {
     "data": {
      "image/png": "[encoded data removed]",
      "text/plain": [
       "<Figure size 800x600 with 1 Axes>"
      ]
     },
     "metadata": {},
     "output_type": "display_data"
    }
   ],
   "source": [
    "data_path = 'spice_locations.txt'\n",
    "K, init_centers = 2, None\n",
    "#from the plot, k=2 is obviously optimal\n",
    "centers, labels, time_taken = kmeans(data_path, K, init_centers)\n",
    "print('Time taken for the algorithm to converge:', time_taken)\n",
    "visualise(data_path, labels, centers)"
   ]
  },
  {
   "cell_type": "code",
   "execution_count": null,
   "metadata": {},
   "outputs": [],
   "source": []
  }
 ],
 "metadata": {
  "kernelspec": {
   "display_name": "Python 3 (ipykernel)",
   "language": "python",
   "name": "python3"
  },
  "language_info": {
   "codemirror_mode": {
    "name": "ipython",
    "version": 3
   },
   "file_extension": ".py",
   "mimetype": "text/x-python",
   "name": "python",
   "nbconvert_exporter": "python",
   "pygments_lexer": "ipython3",
   "version": "3.10.12"
  }
 },
 "nbformat": 4,
 "nbformat_minor": 4
}
